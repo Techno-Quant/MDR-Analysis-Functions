{
 "cells": [
  {
   "cell_type": "markdown",
   "metadata": {},
   "source": [
    "# MDR Analysis Functions\n",
    "\n",
    "This notebook contains functions to create new variables based on ICD code substrings from a specified range of existing variables. It includes handling of periods in ICD codes."
   ]
  },
  {
   "cell_type": "code",
   "execution_count": 1,
   "metadata": {},
   "outputs": [],
   "source": [
    "import pandas as pd"
   ]
  },
  {
   "cell_type": "markdown",
   "metadata": {},
   "source": [
    "## Sample Data"
   ]
  },
  {
   "cell_type": "code",
   "execution_count": 2,
   "metadata": {},
   "outputs": [],
   "source": [
    "# Sample data for demonstration\n",
    "data = {\n",
    "    'DX1': ['51881', '51882', '51884', '7991', 'M170', 'M171'],\n",
    "    'DX2': ['M1710', 'M1711', 'M1712', '51881', '51882', '51884'],\n",
    "    'DX3': ['7991', 'M170', 'M171', 'M1710', 'M1711', 'M1712']\n",
    "}\n",
    "\n",
    "# Create a DataFrame\n",
    "df = pd.DataFrame(data)\n",
    "df"
   ]
  },
  {
   "cell_type": "markdown",
   "metadata": {},
   "source": [
    "## Function to Create Variable Based on ICD Code Substrings"
   ]
  },
  {
   "cell_type": "code",
   "execution_count": 3,
   "metadata": {},
   "outputs": [],
   "source": [
    "def create_var_based_on_subcodes(df, codes, var_range, newvar):\n",
    "    \"\"\"\n",
    "    Create a new variable based on ICD code substrings.\n",
    "    \n",
    "    Parameters:\n",
    "    df (pd.DataFrame): The DataFrame containing the data.\n",
    "    codes (list): A list of truncated ICD codes to match.\n",
    "    var_range (list): A list of existing variables to search through.\n",
    "    newvar (str): The name of the new variable to be created.\n",
    "    \n",
    "    Returns:\n",
    "    pd.DataFrame: The DataFrame with the new variable added.\n",
    "    \"\"\"\n",
    "    df[newvar] = 0\n",
    "    for var in var_range:\n",
    "        for code in codes:\n",
    "            df[newvar] = df[newvar] | df[var].str.startswith(code)\n",
    "    return df"
   ]
  },
  {
   "cell_type": "markdown",
   "metadata": {},
   "source": [
    "## Function to Create Variable Based on ICD Code Substrings and Clean Periods"
   ]
  },
  {
   "cell_type": "code",
   "execution_count": 4,
   "metadata": {},
   "outputs": [],
   "source": [
    "def create_var_based_on_subcodes_with_period(df, codes, var_range, newvar):\n",
    "    \"\"\"\n",
    "    Create a new variable based on ICD code substrings and clean periods.\n",
    "    \n",
    "    Parameters:\n",
    "    df (pd.DataFrame): The DataFrame containing the data.\n",
    "    codes (list): A list of truncated ICD codes to match.\n",
    "    var_range (list): A list of existing variables to search through.\n",
    "    newvar (str): The name of the new variable to be created.\n",
    "    \n",
    "    Returns:\n",
    "    pd.DataFrame: The DataFrame with the new variable added.\n",
    "    \"\"\"\n",
    "    df[newvar] = 0\n",
    "    for var in var_range:\n",
    "        df[var] = df[var].str.replace('.', '', regex=False)\n",
    "        for code in codes:\n",
    "            df[newvar] = df[newvar] | df[var].str.startswith(code)\n",
    "    return df"
   ]
  },
  {
   "cell_type": "markdown",
   "metadata": {},
   "source": [
    "## Example Usage"
   ]
  },
  {
   "cell_type": "code",
   "execution_count": 5,
   "metadata": {},
   "outputs": [
    {
     "data": {
      "text/plain": [
       "     DX1    DX2    DX3  pc_respiratory_dx  pc_respiratory_dx_cleaned\n",
       "0  51881  M1710   7991               True                       True\n",
       "1  51882  M1711   M170               True                       True\n",
       "2  51884  M1712   M171               True                       True\n",
       "3   7991  51881  M1710               True                       True\n",
       "4   M170  51882  M1711               True                       True\n",
       "5   M171  51884  M1712               True                       True"
      ]
     },
     "execution_count": 5,
     "metadata": {},
     "output_type": "execute_result"
    }
   ],
   "source": [
    "# Example usage\n",
    "codes = [\"51881\", \"51882\", \"51884\", \"7991\"]\n",
    "var_range = [\"DX1\", \"DX2\", \"DX3\"]\n",
    "\n",
    "df = create_var_based_on_subcodes(df, codes, var_range, \"pc_respiratory_dx\")\n",
    "df = create_var_based_on_subcodes_with_period(df, codes, var_range, \"pc_respiratory_dx_cleaned\")\n",
    "\n",
    "df"
   ]
  }
 ],
 "metadata": {
  "kernelspec": {
   "display_name": "Python 3",
   "language": "python",
   "name": "python3"
  },
  "language_info": {
   "codemirror_mode": {
    "name": "ipython",
    "version": 3
   },
   "file_extension": ".py",
   "mimetype": "text/x-python",
   "name": "python",
   "nbconvert_exporter": "python",
   "pygments_lexer": "ipython3",
   "version": "3.8.5"
  }
 },
 "nbformat": 4,
 "nbformat_minor": 4
}