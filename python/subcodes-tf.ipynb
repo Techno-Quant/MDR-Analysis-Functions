{
 "cells": [
  {
   "cell_type": "code",
   "execution_count": null,
   "metadata": {},
   "outputs": [],
   "source": [
    "import pandas as pd\n",
    "\n",
    "# Sample data for demonstration\n",
    "data = {\n",
    "    'DX1': ['51881', '51882', '51884', '7991', 'M170', 'M171'],\n",
    "    'DX2': ['M1710', 'M1711', 'M1712', '51881', '51882', '51884'],\n",
    "    'DX3': ['7991', 'M170', 'M171', 'M1710', 'M1711', 'M1712'],\n",
    "    'DX11': ['51881', '51882', '51884', '7991', 'M170', 'M171'],\n",
    "    'DX12': ['M1710', 'M1711', 'M1712', '51881', '51882', '51884'],\n",
    "    'DX13': ['7991', 'M170', 'M171', 'M1710', 'M1711', 'M1712']\n",
    "}\n",
    "\n",
    "# Create a DataFrame\n",
    "df = pd.DataFrame(data)\n",
    "\n",
    "# Function to create a new variable based on true and false ranges of ICD codes\n",
    "def create_var_based_on_true_false_ranges(df, codes, true_range, false_range, newvar):\n",
    "    \"\"\"\n",
    "    Create a new variable based on ICD code substrings from true and false ranges.\n",
    "    \n",
    "    Parameters:\n",
    "    df (pd.DataFrame): The DataFrame containing the data.\n",
    "    codes (list): A list of truncated ICD codes to match.\n",
    "    true_range (list): A list of existing variables to search through for setting the new variable to 1.\n",
    "    false_range (list): A list of existing variables to search through for setting the new variable back to 0.\n",
    "    newvar (str): The name of the new variable to be created.\n",
    "    \n",
    "    Returns:\n",
    "    pd.DataFrame: The DataFrame with the new variable added.\n",
    "    \"\"\"\n",
    "    df[newvar] = 0\n",
    "    for var in true_range:\n",
    "        for code in codes:\n",
    "            df[newvar] = df[newvar] | df[var].str.startswith(code)\n",
    "    \n",
    "    for var in false_range:\n",
    "        for code in codes:\n",
    "            df[newvar] = df[newvar] & ~df[var].str.startswith(code)\n",
    "    \n",
    "    return df\n",
    "\n",
    "# Example usage\n",
    "codes = [\"51881\", \"51882\", \"51884\", \"7991\"]\n",
    "true_range = [\"DX1\", \"DX2\", \"DX3\"]\n",
    "false_range = [\"DX11\", \"DX12\", \"DX13\"]\n",
    "\n",
    "df = create_var_based_on_true_false_ranges(df, codes, true_range, false_range, \"pc_respiratory_dx\")\n",
    "\n",
    "print(df)"
   ]
  }
 ],
 "metadata": {
  "kernelspec": {
   "display_name": "ds-evn-1",
   "language": "python",
   "name": "python3"
  },
  "language_info": {
   "name": "python",
   "version": "3.11.9"
  }
 },
 "nbformat": 4,
 "nbformat_minor": 2
}
